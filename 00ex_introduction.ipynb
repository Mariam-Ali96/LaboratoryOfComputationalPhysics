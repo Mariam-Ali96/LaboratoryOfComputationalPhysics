{
 "cells": [
  {
   "cell_type": "markdown",
   "metadata": {},
   "source": [
    "1. The MickeyMouse problem\n",
    "\n",
    "a) Write a program that prints the numbers from 1 to 100. But for multiples of three print Mickey instead of the number and for the multiples of five print Mouse. For numbers which are multiples of both three and five print MickeyMouse\n",
    "\n",
    "b) Put the result in a tuple and substitute Mickey with Donald and Mouse with Duck"
   ]
  },
  {
   "cell_type": "code",
   "execution_count": 30,
   "metadata": {},
   "outputs": [
    {
     "name": "stdout",
     "output_type": "stream",
     "text": [
      "1\n",
      "2\n",
      "micky\n",
      "4\n",
      "mouse\n",
      "micky\n",
      "7\n",
      "8\n",
      "micky\n",
      "mouse\n",
      "11\n",
      "micky\n",
      "13\n",
      "14\n",
      "MickeyMouse\n",
      "16\n",
      "17\n",
      "micky\n",
      "19\n",
      "mouse\n",
      "micky\n",
      "22\n",
      "23\n",
      "micky\n",
      "mouse\n",
      "26\n",
      "micky\n",
      "28\n",
      "29\n",
      "MickeyMouse\n",
      "31\n",
      "32\n",
      "micky\n",
      "34\n",
      "mouse\n",
      "micky\n",
      "37\n",
      "38\n",
      "micky\n",
      "mouse\n",
      "41\n",
      "micky\n",
      "43\n",
      "44\n",
      "MickeyMouse\n",
      "46\n",
      "47\n",
      "micky\n",
      "49\n",
      "mouse\n",
      "micky\n",
      "52\n",
      "53\n",
      "micky\n",
      "mouse\n",
      "56\n",
      "micky\n",
      "58\n",
      "59\n",
      "MickeyMouse\n",
      "61\n",
      "62\n",
      "micky\n",
      "64\n",
      "mouse\n",
      "micky\n",
      "67\n",
      "68\n",
      "micky\n",
      "mouse\n",
      "71\n",
      "micky\n",
      "73\n",
      "74\n",
      "MickeyMouse\n",
      "76\n",
      "77\n",
      "micky\n",
      "79\n",
      "mouse\n",
      "micky\n",
      "82\n",
      "83\n",
      "micky\n",
      "mouse\n",
      "86\n",
      "micky\n",
      "88\n",
      "89\n",
      "MickeyMouse\n",
      "91\n",
      "92\n",
      "micky\n",
      "94\n",
      "mouse\n",
      "micky\n",
      "97\n",
      "98\n",
      "micky\n",
      "mouse\n"
     ]
    }
   ],
   "source": [
    "for i in range(1,101):\n",
    "    if (i % 3 == 0 and i % 5 == 0):\n",
    "        i ='MickeyMouse'\n",
    "    elif i % 3 == 0:\n",
    "        i='micky'\n",
    "    elif i % 5 == 0:\n",
    "        i = 'mouse'\n",
    "    print(i)       "
   ]
  },
  {
   "cell_type": "code",
   "execution_count": 140,
   "metadata": {},
   "outputs": [
    {
     "name": "stdout",
     "output_type": "stream",
     "text": [
      "1\n",
      "2\n",
      "(Donald)\n",
      "4\n",
      "(duck)\n",
      "(Donald)\n",
      "7\n",
      "8\n",
      "(Donald)\n",
      "(duck)\n",
      "11\n",
      "(Donald)\n",
      "13\n",
      "14\n",
      "(DonaldDuck)\n",
      "16\n",
      "17\n",
      "(Donald)\n",
      "19\n",
      "(duck)\n",
      "(Donald)\n",
      "22\n",
      "23\n",
      "(Donald)\n",
      "(duck)\n",
      "26\n",
      "(Donald)\n",
      "28\n",
      "29\n",
      "(DonaldDuck)\n",
      "31\n",
      "32\n",
      "(Donald)\n",
      "34\n",
      "(duck)\n",
      "(Donald)\n",
      "37\n",
      "38\n",
      "(Donald)\n",
      "(duck)\n",
      "41\n",
      "(Donald)\n",
      "43\n",
      "44\n",
      "(DonaldDuck)\n",
      "46\n",
      "47\n",
      "(Donald)\n",
      "49\n",
      "(duck)\n",
      "(Donald)\n",
      "52\n",
      "53\n",
      "(Donald)\n",
      "(duck)\n",
      "56\n",
      "(Donald)\n",
      "58\n",
      "59\n",
      "(DonaldDuck)\n",
      "61\n",
      "62\n",
      "(Donald)\n",
      "64\n",
      "(duck)\n",
      "(Donald)\n",
      "67\n",
      "68\n",
      "(Donald)\n",
      "(duck)\n",
      "71\n",
      "(Donald)\n",
      "73\n",
      "74\n",
      "(DonaldDuck)\n",
      "76\n",
      "77\n",
      "(Donald)\n",
      "79\n",
      "(duck)\n",
      "(Donald)\n",
      "82\n",
      "83\n",
      "(Donald)\n",
      "(duck)\n",
      "86\n",
      "(Donald)\n",
      "88\n",
      "89\n",
      "(DonaldDuck)\n",
      "91\n",
      "92\n",
      "(Donald)\n",
      "94\n",
      "(duck)\n",
      "(Donald)\n",
      "97\n",
      "98\n",
      "(Donald)\n",
      "(duck)\n"
     ]
    }
   ],
   "source": [
    "for i in range(1,101):\n",
    "    if (i % 3 == 0 and i % 5 == 0):\n",
    "        i ='(DonaldDuck)'\n",
    "    elif i % 3 == 0:\n",
    "        i='(Donald)'\n",
    "    elif i % 5 == 0:\n",
    "        i = '(duck)'\n",
    "    print(i)       "
   ]
  },
  {
   "cell_type": "code",
   "execution_count": null,
   "metadata": {},
   "outputs": [],
   "source": []
  },
  {
   "cell_type": "code",
   "execution_count": null,
   "metadata": {},
   "outputs": [],
   "source": []
  },
  {
   "cell_type": "markdown",
   "metadata": {},
   "source": [
    "2\\. The swap function\n",
    "\n",
    "Write a function that swap the values of two input variables x and y (whatever the type). Try to do that also without a temporary variable"
   ]
  },
  {
   "cell_type": "code",
   "execution_count": 33,
   "metadata": {},
   "outputs": [],
   "source": [
    "def swap(x,y):\n",
    "    \n",
    "    return y,x"
   ]
  },
  {
   "cell_type": "code",
   "execution_count": 38,
   "metadata": {},
   "outputs": [
    {
     "data": {
      "text/plain": [
       "(8, 0.005)"
      ]
     },
     "execution_count": 38,
     "metadata": {},
     "output_type": "execute_result"
    }
   ],
   "source": [
    "swap(0.005,8)"
   ]
  },
  {
   "cell_type": "markdown",
   "metadata": {},
   "source": [
    "3\\. Computing the distance\n",
    "\n",
    "Write a function that calculates and returns the euclidean distance between two points *u* and *v*, where *u* and *v* are both 2-tuples *(x,y)*. For example, if *u=(3,0)* and *v=(0,4)*, the function should return 5"
   ]
  },
  {
   "cell_type": "code",
   "execution_count": 50,
   "metadata": {},
   "outputs": [],
   "source": [
    "def EUC(x,y):\n",
    "    import math\n",
    "    distance = math.sqrt(sum([(abs(a - b)) ** 2 for a, b in zip(x, y)]))\n",
    "    return distance"
   ]
  },
  {
   "cell_type": "code",
   "execution_count": 53,
   "metadata": {},
   "outputs": [
    {
     "data": {
      "text/plain": [
       "5.196152422706632"
      ]
     },
     "execution_count": 53,
     "metadata": {},
     "output_type": "execute_result"
    }
   ],
   "source": [
    "EUC(x= (3,1,0), y=(4,0,5))"
   ]
  },
  {
   "cell_type": "code",
   "execution_count": 55,
   "metadata": {},
   "outputs": [
    {
     "name": "stdout",
     "output_type": "stream",
     "text": [
      "w\n",
      "o\n",
      "r\n",
      "d\n"
     ]
    }
   ],
   "source": [
    "for i in 'word':\n",
    "    print i"
   ]
  },
  {
   "cell_type": "markdown",
   "metadata": {},
   "source": [
    "4\\. Counting letters\n",
    "\n",
    "Write a program to calculate the number of times each character occurs in a given string *s*. Ignore differneces in capitalization"
   ]
  },
  {
   "cell_type": "code",
   "execution_count": 64,
   "metadata": {},
   "outputs": [],
   "source": [
    "def count(x):\n",
    "    \n",
    "    return len(x)"
   ]
  },
  {
   "cell_type": "code",
   "execution_count": 65,
   "metadata": {},
   "outputs": [
    {
     "data": {
      "text/plain": [
       "5"
      ]
     },
     "execution_count": 65,
     "metadata": {},
     "output_type": "execute_result"
    }
   ],
   "source": [
    "count('Hello')"
   ]
  },
  {
   "cell_type": "code",
   "execution_count": 67,
   "metadata": {},
   "outputs": [],
   "source": [
    "def freq_count(test):\n",
    "    all_freq = {} \n",
    "  \n",
    "    for i in test:\n",
    "        if i in all_freq: \n",
    "            all_freq[i] += 1\n",
    "        else: \n",
    "            all_freq[i] = 1\n",
    "    return all_freq"
   ]
  },
  {
   "cell_type": "code",
   "execution_count": 70,
   "metadata": {},
   "outputs": [
    {
     "data": {
      "text/plain": [
       "{' ': 4,\n",
       " 'a': 3,\n",
       " 'd': 1,\n",
       " 'e': 1,\n",
       " 'g': 1,\n",
       " 'h': 1,\n",
       " 'i': 2,\n",
       " 'n': 1,\n",
       " 'r': 1,\n",
       " 's': 2,\n",
       " 't': 3,\n",
       " 'y': 1}"
      ]
     },
     "execution_count": 70,
     "metadata": {},
     "output_type": "execute_result"
    }
   ],
   "source": [
    "freq_count('isnt this a great day')"
   ]
  },
  {
   "cell_type": "code",
   "execution_count": null,
   "metadata": {},
   "outputs": [],
   "source": []
  },
  {
   "cell_type": "markdown",
   "metadata": {},
   "source": [
    "5\\. Isolating the unique\n",
    "\n",
    "Write a function that determines and count the unique numbers in the list *l*"
   ]
  },
  {
   "cell_type": "code",
   "execution_count": 115,
   "metadata": {},
   "outputs": [],
   "source": [
    "import collections\n",
    "def unique(arr):\n",
    "    unique_list = [] \n",
    "    for x in arr : \n",
    "        if (x not in unique_list and arr.count(x) == 1):\n",
    "            unique_list.append(x)\n",
    "    return unique_list"
   ]
  },
  {
   "cell_type": "code",
   "execution_count": 120,
   "metadata": {},
   "outputs": [],
   "source": [
    "l = [0.4,9,8,7,5,4,7,5,6,3,77,4,5,5,5,5,9]"
   ]
  },
  {
   "cell_type": "code",
   "execution_count": 122,
   "metadata": {},
   "outputs": [
    {
     "data": {
      "text/plain": [
       "[0.4, 8, 6, 3, 77]"
      ]
     },
     "execution_count": 122,
     "metadata": {},
     "output_type": "execute_result"
    }
   ],
   "source": [
    "unique(l)"
   ]
  },
  {
   "cell_type": "markdown",
   "metadata": {},
   "source": [
    "6\\. Combination of functions\n",
    "\n",
    "Write two functions - one that returns the square of a number, and one that returns the cube. Now write a third function that returns the number raised to the 6th power using the two previous functions."
   ]
  },
  {
   "cell_type": "code",
   "execution_count": 126,
   "metadata": {},
   "outputs": [],
   "source": [
    "def sq(x):\n",
    "    return x**2\n",
    "def cube(x):\n",
    "    return x**3\n",
    "def six(x):\n",
    "    return sq(cube(x))"
   ]
  },
  {
   "cell_type": "code",
   "execution_count": 129,
   "metadata": {},
   "outputs": [
    {
     "data": {
      "text/plain": [
       "64"
      ]
     },
     "execution_count": 129,
     "metadata": {},
     "output_type": "execute_result"
    }
   ],
   "source": [
    "six(2)"
   ]
  },
  {
   "cell_type": "markdown",
   "metadata": {},
   "source": [
    "7\\. Cubes\n",
    "\n",
    "Create a list of the cubes of x for x in *[0, 10]* using:\n",
    "\n",
    "a) a for loop\n",
    "\n",
    "b) a list comprehension"
   ]
  },
  {
   "cell_type": "code",
   "execution_count": 132,
   "metadata": {},
   "outputs": [
    {
     "name": "stdout",
     "output_type": "stream",
     "text": [
      "[0, 1, 8, 27, 64, 125, 216, 343, 512, 729, 1000]\n"
     ]
    }
   ],
   "source": [
    "cubes = []\n",
    "for i in range(0,11):\n",
    "    x = cube(i)\n",
    "    cubes.append(x)\n",
    "\n",
    "    \n",
    "print(cubes)"
   ]
  },
  {
   "cell_type": "code",
   "execution_count": 134,
   "metadata": {},
   "outputs": [
    {
     "name": "stdout",
     "output_type": "stream",
     "text": [
      "[0, 1, 8, 27, 64, 125, 216, 343, 512, 729, 1000]\n"
     ]
    }
   ],
   "source": [
    "cubess = [i**3 for i in range(0,11)]\n",
    "print(cubess)"
   ]
  },
  {
   "cell_type": "markdown",
   "metadata": {},
   "source": [
    "8\\. Nested list comprehension\n",
    "\n",
    "A Pythagorean triple is an integer solution to the Pythagorean theorem $a^2+b^2=c^2$. The first Pythagorean triple is (3,4,5). Find and put in a tuple all unique Pythagorean triples for the positive integers a, b and c less than 100."
   ]
  },
  {
   "cell_type": "code",
   "execution_count": 135,
   "metadata": {},
   "outputs": [
    {
     "name": "stdout",
     "output_type": "stream",
     "text": [
      "(3, 4, 5)\n",
      "(6, 8, 10)\n",
      "(5, 12, 13)\n",
      "(9, 12, 15)\n",
      "(8, 15, 17)\n",
      "(12, 16, 20)\n",
      "(15, 20, 25)\n",
      "(20, 21, 29)\n",
      "(7, 24, 25)\n",
      "(10, 24, 26)\n",
      "(18, 24, 30)\n",
      "(21, 28, 35)\n",
      "(16, 30, 34)\n",
      "(24, 32, 40)\n",
      "(12, 35, 37)\n",
      "(15, 36, 39)\n",
      "(27, 36, 45)\n",
      "(9, 40, 41)\n",
      "(30, 40, 50)\n",
      "(40, 42, 58)\n",
      "(33, 44, 55)\n",
      "(24, 45, 51)\n",
      "(28, 45, 53)\n",
      "(14, 48, 50)\n",
      "(20, 48, 52)\n",
      "(36, 48, 60)\n",
      "(39, 52, 65)\n",
      "(48, 55, 73)\n",
      "(33, 56, 65)\n",
      "(42, 56, 70)\n",
      "(11, 60, 61)\n",
      "(25, 60, 65)\n",
      "(32, 60, 68)\n",
      "(45, 60, 75)\n",
      "(16, 63, 65)\n",
      "(60, 63, 87)\n",
      "(48, 64, 80)\n",
      "(51, 68, 85)\n",
      "(24, 70, 74)\n",
      "(21, 72, 75)\n",
      "(30, 72, 78)\n",
      "(54, 72, 90)\n",
      "(65, 72, 97)\n",
      "(40, 75, 85)\n",
      "(57, 76, 95)\n",
      "(36, 77, 85)\n",
      "(18, 80, 82)\n",
      "(39, 80, 89)\n",
      "(60, 80, 100)\n",
      "(13, 84, 85)\n",
      "(35, 84, 91)\n",
      "(63, 84, 105)\n",
      "(80, 84, 116)\n",
      "(66, 88, 110)\n",
      "(48, 90, 102)\n",
      "(56, 90, 106)\n",
      "(60, 91, 109)\n",
      "(69, 92, 115)\n",
      "(28, 96, 100)\n",
      "(40, 96, 104)\n",
      "(72, 96, 120)\n",
      "(20, 99, 101)\n"
     ]
    }
   ],
   "source": [
    "import math\n",
    "def pythagorean_triplet(n):\n",
    "    for b in range(n):\n",
    "        for a in range(1, b):\n",
    "            c = math.sqrt( a * a + b * b)\n",
    "            if c % 1 == 0:\n",
    "                print(a, b, int(c))\n",
    "            \n",
    "pythagorean_triplet(100)"
   ]
  },
  {
   "cell_type": "markdown",
   "metadata": {},
   "source": [
    "9\\. Normalization\n",
    "\n",
    "Write a function that takes a tuple of numbers and returns it with the entries normalized to one"
   ]
  },
  {
   "cell_type": "code",
   "execution_count": 136,
   "metadata": {},
   "outputs": [],
   "source": [
    "def norm(x):\n",
    "    return [float(i)/sum(x) for i in x]"
   ]
  },
  {
   "cell_type": "code",
   "execution_count": 139,
   "metadata": {},
   "outputs": [
    {
     "data": {
      "text/plain": [
       "[0.06451612903225806,\n",
       " 0.0967741935483871,\n",
       " 0.22580645161290322,\n",
       " 0.25806451612903225,\n",
       " 0.1935483870967742,\n",
       " 0.16129032258064516]"
      ]
     },
     "execution_count": 139,
     "metadata": {},
     "output_type": "execute_result"
    }
   ],
   "source": [
    "norm((2,3,7,8,6,5))"
   ]
  },
  {
   "cell_type": "code",
   "execution_count": null,
   "metadata": {},
   "outputs": [],
   "source": []
  }
 ],
 "metadata": {
  "kernelspec": {
   "display_name": "Python 3",
   "language": "python",
   "name": "python3"
  },
  "language_info": {
   "codemirror_mode": {
    "name": "ipython",
    "version": 2
   },
   "file_extension": ".py",
   "mimetype": "text/x-python",
   "name": "python",
   "nbconvert_exporter": "python",
   "pygments_lexer": "ipython2",
   "version": "2.7.15"
  }
 },
 "nbformat": 4,
 "nbformat_minor": 2
}
