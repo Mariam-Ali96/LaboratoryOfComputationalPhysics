{
 "cells": [
  {
   "cell_type": "markdown",
   "metadata": {},
   "source": [
    "1\\. Write a function that converts number representation (bin<->dec<->hex)"
   ]
  },
  {
   "cell_type": "code",
   "execution_count": 1,
   "metadata": {},
   "outputs": [
    {
     "name": "stdout",
     "output_type": "stream",
     "text": [
      "46a7\n",
      "18087\n",
      "100011010100111\n",
      " \n",
      "100011010100111\n",
      "18087\n",
      "46a7\n",
      " \n",
      "100011010100111\n",
      "46a7\n",
      "18087\n"
     ]
    }
   ],
   "source": [
    "map0 = {0:0, 1:1, 2:2, 3:3, 4:4, 5:5, 6:6, 7:7, 8:8, 9:9, 10:'a', 11:'b', 12:'c', 13:'d', 14:'e', 15:'f'}\n",
    "map1 = {'0':0, '1':1, '2':2, '3':3, '4':4, '5':5, '6':6, '7':7, '8':8, '9':9, 'a':10, 'b':11, 'c':12, 'd':13, 'e':14, 'f':15}\n",
    "\n",
    "def conversion(n,input_base,output_base):\n",
    "    x0=(str)(n)\n",
    "    result0 = \"\"\n",
    "    decimal=0\n",
    "    if n == 0:\n",
    "        return '0'\n",
    "    for i0,i1 in zip(map(str.lower,x0),range(len(x0))):\n",
    "        i00=(int)(map1[i0])\n",
    "        decimal+= i00*input_base**(len(x0)-i1-1)\n",
    "    while decimal > 0:\n",
    "        result0 += str(map0[(decimal % output_base)])\n",
    "        decimal = decimal // output_base\n",
    "    result1=result0[::-1]\n",
    "    print result1\n",
    "conversion(100011010100111,2,16) \n",
    "conversion(100011010100111,2,10) \n",
    "conversion(100011010100111,2,2) \n",
    "print \" \"\n",
    "conversion(\"46A7\",16,2)\n",
    "conversion(\"46A7\",16,10)\n",
    "conversion(\"46A7\",16,16)\n",
    "print \" \"\n",
    "conversion(18087,10,2)\n",
    "conversion(18087,10,16)\n",
    "conversion(18087,10,10)\n"
   ]
  },
  {
   "cell_type": "markdown",
   "metadata": {},
   "source": [
    "2\\. Write a function that converts a 32 bit word into a single precision floating point (i.e. interprets the various bits as sign, mantissa and exponent)"
   ]
  },
  {
   "cell_type": "code",
   "execution_count": 10,
   "metadata": {},
   "outputs": [
    {
     "name": "stdout",
     "output_type": "stream",
     "text": [
      "Float number :  -3.03162226226e-13\n",
      "Sign : - \n",
      "Exponent :  85\n",
      "Mantissa :  1.33332157135\n"
     ]
    }
   ],
   "source": [
    "def func(x0):\n",
    "    if len( x0 ) == 32:\n",
    "        sin = int(x0[0])\n",
    "        exp = int(x0[1:9],2)\n",
    "        mantissa = 1 + sum([ int(b) * 2**(-i-1) for (i,b) in enumerate(x0[9::])])\n",
    "        print 'Float number : ', (-1)**(sin) * 2**(exp-127) * mantissa\n",
    "        if sin==0:\n",
    "            print \"Sign : + \"\n",
    "        else:\n",
    "            print \"Sign : - \"\n",
    "        print 'Exponent : ', exp\n",
    "        print 'Mantissa : ', mantissa \n",
    "    else:\n",
    "        print(\"Number has not 32 digits\")\n",
    "        return\n",
    "        \n",
    "num = '10101010101010101010101001001000'\n",
    "func(num)\n"
   ]
  },
  {
   "cell_type": "markdown",
   "metadata": {},
   "source": [
    "3\\. Write a program to determine the underflow and overflow limits (within a factor of 2) for python on your computer. \n",
    "\n",
    "**Tips**: define two variables inizialized to 1 and halve/double them enough time to exceed the under/over-flow limits  "
   ]
  },
  {
   "cell_type": "code",
   "execution_count": 12,
   "metadata": {},
   "outputs": [
    {
     "name": "stdout",
     "output_type": "stream",
     "text": [
      "('Min representable float:', 5e-324)\n",
      "('Mix representable float:', 8.98846567431158e+307)\n"
     ]
    }
   ],
   "source": [
    "x = 0.1\n",
    "while x != 0. :\n",
    "    t1 = x\n",
    "    x /= 2.\n",
    "y = 1.\n",
    "while y/y == 1.:\n",
    "    t2 = y\n",
    "    y *= 2.\n",
    "print(\"Min representable float:\", t1)\n",
    "print(\"Mix representable float:\", t2)\n"
   ]
  },
  {
   "cell_type": "markdown",
   "metadata": {},
   "source": [
    "4\\. Write a program to determine the machine precision\n",
    "\n",
    "**Tips**: define a new variable by adding a smaller and smaller value (proceeding similarly to prob. 2) to an original variable and check the point where the two are the same "
   ]
  },
  {
   "cell_type": "code",
   "execution_count": 13,
   "metadata": {},
   "outputs": [
    {
     "name": "stdout",
     "output_type": "stream",
     "text": [
      "Machine Precision:  1.3870765982e-17\n"
     ]
    }
   ],
   "source": [
    "x = 0.1\n",
    "ad = 0.0000001\n",
    "\n",
    "while True:\n",
    "    y = x + (ad/2)\n",
    "    if(y == x):\n",
    "        print'Machine Precision: ',ad\n",
    "        break\n",
    "    else:\n",
    "        ad = ad/1.001\n"
   ]
  },
  {
   "cell_type": "markdown",
   "metadata": {},
   "source": [
    "5\\. Write a function that takes in input three parameters $a$, $b$ and $c$ and prints out the two solutions to the quadratic equation $ax^2+bx+c=0$ using the standard formula:\n",
    "$$\n",
    "x=\\frac{-b\\pm\\sqrt{b^2-4ac}}{2a}\n",
    "$$\n",
    "\n",
    "(a) use the program to compute the solution for $a=0.001$, $b=1000$ and $c=0.001$\n",
    "\n",
    "(b) re-express the standard solution formula by multiplying top and bottom by $-b\\mp\\sqrt{b^2-4ac}$ and again find the solution for $a=0.001$, $b=1000$ and $c=0.001$. How does it compare with what previously obtained? Why?\n",
    "\n",
    "(c) write a function that compute the roots of a quadratic equation accurately in all cases"
   ]
  },
  {
   "cell_type": "code",
   "execution_count": 15,
   "metadata": {},
   "outputs": [
    {
     "data": {
      "text/plain": [
       "(-9.999894245993346e-07, -999999.999999)"
      ]
     },
     "execution_count": 15,
     "metadata": {},
     "output_type": "execute_result"
    }
   ],
   "source": [
    "import math\n",
    "def quad(a,b,c):\n",
    "    sol1= (-b+math.sqrt(b**2-4*a*c))/(2*a)\n",
    "    sol2=(-b-math.sqrt(b**2-4*a*c))/(2*a)\n",
    "    return sol1,sol2\n",
    "quad(0.001,1000,0.001)\n"
   ]
  },
  {
   "cell_type": "markdown",
   "metadata": {},
   "source": [
    "6\\. Write a program that implements the function $f(x)=x(x−1)$\n",
    "\n",
    "(a) Calculate the derivative of the function at the point $x = 1$ using the derivative definition:\n",
    "\n",
    "$$\n",
    "\\frac{{\\rm d}f}{{\\rm d}x} = \\lim_{\\delta\\to0} \\frac{f(x+\\delta)-f(x)}{\\delta}\n",
    "$$\n",
    "\n",
    "with $\\delta = 10^{−2}$. Calculate the true value of the same derivative analytically and compare with the answer your program gives. The two will not agree perfectly. Why not?\n",
    "\n",
    "(b) Repeat the calculation for $\\delta = 10^{−4}, 10^{−6}, 10^{−8}, 10^{−10}, 10^{−12}$ and $10^{−14}$. How does the accuracy scales with $\\delta$?"
   ]
  },
  {
   "cell_type": "code",
   "execution_count": 16,
   "metadata": {},
   "outputs": [
    {
     "name": "stdout",
     "output_type": "stream",
     "text": [
      "[(1.010000000000001, 1), (1.0000999999998899, 1), (1.0000009999177333, 1), (1.0000000039225287, 1), (1.000000082840371, 1), (1.0000889005833413, 1), (0.9992007221626509, 1)]\n"
     ]
    }
   ],
   "source": [
    "from sympy import limit\n",
    "def fun(x0):\n",
    "    return x0*(x0-1)\n",
    "ser=[10**-2,10**-4,10**-6,10**-8,10**-10,10**-12,10**-14]\n",
    "replac=[((fun(1+i)-fun(1))/i,1) for i in ser]\n",
    "print replac\n"
   ]
  },
  {
   "cell_type": "markdown",
   "metadata": {},
   "source": [
    "7\\. Consider the integral of the semicircle of radius 1:\n",
    "$$\n",
    "I=\\int_{-1}^{1} \\sqrt(1-x^2) {\\rm d}x\n",
    "$$\n",
    "which it's known to be $I=\\frac{\\pi}{2}=1.57079632679...$.\n",
    "Alternatively we can use the Riemann definition of the integral:\n",
    "$$\n",
    "I=\\lim_{N\\to\\infty} \\sum_{k=1}^{N} h y_k \n",
    "$$\n",
    "\n",
    "with $h=2/N$ the width of each of the $N$ slices the domain is divided into and where\n",
    "$y_k$ is the value of the function at the $k-$th slice.\n",
    "\n",
    "(a) Write a programe to compute the integral with $N=100$. How does the result compares to the true value?\n",
    "\n",
    "(b) How much can $N$ be increased if the computation needs to be run in less than a second? What is the gain in running it for 1 minute? \n"
   ]
  },
  {
   "cell_type": "code",
   "execution_count": 17,
   "metadata": {},
   "outputs": [
    {
     "name": "stdout",
     "output_type": "stream",
     "text": [
      "CPU times: user 0 ns, sys: 0 ns, total: 0 ns\n",
      "Wall time: 247 µs\n",
      " Difference with true value with N=100 :  -0.00166207124565\n"
     ]
    }
   ],
   "source": [
    "import math\n",
    "from math import pi\n",
    "def fun(x):\n",
    "    return math.sqrt(1.-x**2)\n",
    "def Integral():\n",
    "    step=2./100.\n",
    "    inf=-1\n",
    "    N=100\n",
    "    limits=[inf+step*i for i in range(0,N+1)]\n",
    "    values=[fun(limits[j])*step for j in range(len(limits))]\n",
    "    return sum(values)\n",
    "\n",
    "%time Integral()\n",
    "print \" Difference with true value with N=100 : \", Integral()-pi/2\n"
   ]
  },
  {
   "cell_type": "code",
   "execution_count": null,
   "metadata": {},
   "outputs": [],
   "source": []
  }
 ],
 "metadata": {
  "kernelspec": {
   "display_name": "Python 3",
   "language": "python",
   "name": "python3"
  },
  "language_info": {
   "codemirror_mode": {
    "name": "ipython",
    "version": 2
   },
   "file_extension": ".py",
   "mimetype": "text/x-python",
   "name": "python",
   "nbconvert_exporter": "python",
   "pygments_lexer": "ipython2",
   "version": "2.7.16"
  },
  "latex_envs": {
   "LaTeX_envs_menu_present": true,
   "autoclose": false,
   "autocomplete": true,
   "bibliofile": "biblio.bib",
   "cite_by": "apalike",
   "current_citInitial": 1,
   "eqLabelWithNumbers": true,
   "eqNumInitial": 1,
   "hotkeys": {
    "equation": "Ctrl-E",
    "itemize": "Ctrl-I"
   },
   "labels_anchors": false,
   "latex_user_defs": false,
   "report_style_numbering": false,
   "user_envs_cfg": false
  }
 },
 "nbformat": 4,
 "nbformat_minor": 2
}
